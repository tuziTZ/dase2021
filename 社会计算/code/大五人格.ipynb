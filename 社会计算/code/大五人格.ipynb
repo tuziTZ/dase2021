{
 "cells": [
  {
   "cell_type": "code",
   "execution_count": null,
   "id": "ca8bfa13-5b8c-4d30-a2cf-98961a88ea6f",
   "metadata": {},
   "outputs": [],
   "source": [
    "import pandas as pd\n",
    "import numpy as np\n",
    "import matplotlib.pyplot as plt\n",
    "import seaborn as sns\n",
    "\n",
    "# 加载数据集\n",
    "personality_data = pd.read_csv('./personality_data.csv')\n",
    "gdsp_data = pd.read_excel('./GDSP.xlsx')\n",
    "gdsp_historical_data = pd.read_excel('./GDSP-and-Median-Income-historical-AM23.xlsx', sheet_name=None)\n",
    "population_data = pd.read_csv('./世界各国人口结构数据 2008-2021.csv')\n",
    "\n",
    "# 显示每个数据集的列名和前几行\n",
    "data_overview = {\n",
    "    \"GDSP\": gdsp_data.head(),\n",
    "    \"GDSP Historical\": {sheet: data.head() for sheet, data in gdsp_historical_data.items()},\n",
    "    \"Personality Data\": personality_data.head(),\n",
    "    \"Population Data\": population_data.head()\n",
    "}\n",
    "\n",
    "data_overview\n"
   ]
  },
  {
   "cell_type": "code",
   "execution_count": null,
   "id": "55e375ae-4561-418a-9ab3-0670d0ae3e9d",
   "metadata": {
    "scrolled": true
   },
   "outputs": [],
   "source": [
    "# 标准化列名，以确保一致性\n",
    "gdsp_data.columns = [col.strip().replace(' ', '_').lower() for col in gdsp_data.columns]\n",
    "for sheet in gdsp_historical_data:\n",
    "    gdsp_historical_data[sheet].columns = [col.strip().replace(' ', '_').lower() for col in gdsp_historical_data[sheet].columns]\n",
    "personality_data.columns = [col.strip().replace(' ', '_').lower() for col in personality_data.columns]\n",
    "population_data.columns = [col.strip().replace(' ', '_').lower() for col in population_data.columns]\n",
    "\n",
    "# 显示更新后的列名以确认改动\n",
    "updated_column_names = {\n",
    "    \"GDSP\": gdsp_data.columns.tolist(),\n",
    "    \"GDSP Historical - Example Sheet\": list(gdsp_historical_data.values())[0].columns.tolist(),\n",
    "    \"Personality Data\": personality_data.columns.tolist(),\n",
    "    \"Population Data\": population_data.columns.tolist()\n",
    "}\n",
    "\n",
    "updated_column_names\n"
   ]
  },
  {
   "cell_type": "code",
   "execution_count": null,
   "id": "2883cf0d-0384-4b04-9a0e-8b76cd744add",
   "metadata": {
    "scrolled": true
   },
   "outputs": [],
   "source": [
    "# 检查每个数据集中缺失值的数量\n",
    "missing_values = {\n",
    "    \"GDSP\": gdsp_data.isnull().sum(),\n",
    "    \"GDSP Historical - Example Sheet\": list(gdsp_historical_data.values())[0].isnull().sum(),\n",
    "    \"Personality Data\": personality_data.isnull().sum(),\n",
    "    \"Population Data\": population_data.isnull().sum()\n",
    "}\n",
    "\n",
    "missing_values\n"
   ]
  },
  {
   "cell_type": "markdown",
   "id": "38fe1423-8672-4474-8fba-d96c945c066b",
   "metadata": {},
   "source": [
    "## 数据分析\n",
    "计算人格特质与历史-社会生态因素的匹配模式。\n",
    "我们将计算大五人格特质与不同历史-社会生态因素之间的匹配关系"
   ]
  },
  {
   "cell_type": "code",
   "execution_count": null,
   "id": "81ec71c0-1dcd-4114-a237-00d2ce8e7b53",
   "metadata": {
    "scrolled": true
   },
   "outputs": [],
   "source": [
    "# 将 'year' 转换为字符串类型，以匹配 'period'\n",
    "population_data['year'] = population_data['year'].astype(str)\n",
    "\n",
    "# 再次尝试合并\n",
    "merged_data = pd.merge(gdsp_data, population_data, how='inner', left_on=['country_name', 'period'], right_on=['country_name', 'year'])\n",
    "\n",
    "# 显示合并后的数据集的列名和前几行数据\n",
    "merged_data.head(), merged_data.columns.tolist()\n"
   ]
  },
  {
   "cell_type": "code",
   "execution_count": null,
   "id": "3b27b01d-fae9-4cc0-9351-53fc9b5c8acf",
   "metadata": {},
   "outputs": [],
   "source": [
    "# 显示两个数据集中 \"period\" 和 \"year\" 字段的唯一值\n",
    "unique_periods = {\n",
    "    \"GDSP Periods\": gdsp_data['period'].unique(),\n",
    "    \"Population Years\": population_data['year'].unique()\n",
    "}\n",
    "\n",
    "unique_periods\n"
   ]
  },
  {
   "cell_type": "code",
   "execution_count": null,
   "id": "35719964-d8fb-46b9-9923-821b907274a3",
   "metadata": {},
   "outputs": [],
   "source": [
    "# 提取 GDSP 数据集中 period 字段的起始年份\n",
    "gdsp_data['start_year'] = gdsp_data['period'].apply(lambda x: x.split('-')[0])\n",
    "\n",
    "# 再次尝试合并，这次使用 start_year\n",
    "merged_data = pd.merge(gdsp_data, population_data, how='inner', left_on=['country_name', 'start_year'], right_on=['country_name', 'year'])\n",
    "\n",
    "# 显示合并后的数据集的列名和前几行数据\n",
    "merged_data.head(), merged_data.columns.tolist()\n"
   ]
  },
  {
   "cell_type": "code",
   "execution_count": null,
   "id": "e42b007e-05bc-4209-89e4-9f2beced1270",
   "metadata": {},
   "outputs": [],
   "source": [
    "import matplotlib.pyplot as plt\n",
    "import seaborn as sns\n",
    "\n",
    "# 设置绘图风格\n",
    "sns.set(style=\"whitegrid\")\n",
    "\n",
    "# 创建散点图：人口增长率 vs. 底层40%的经济增长率\n",
    "plt.figure(figsize=(10, 6))\n",
    "sns.scatterplot(data=merged_data,\n",
    "                x='population_growth',\n",
    "                y='annualized_growth_in_mean_consumption_or_income_per_capita-bottom_40%',\n",
    "                hue='region',\n",
    "                style='type',\n",
    "                s=100)\n",
    "\n",
    "plt.title('Population Growth vs. Economic Growth of Bottom 40%', fontsize=16)\n",
    "plt.xlabel('Population Growth (%)', fontsize=14)\n",
    "plt.ylabel('Economic Growth of Bottom 40% (%)', fontsize=14)\n",
    "plt.legend(title='Region/Type')\n",
    "plt.savefig('./人口与底层经济.png')\n",
    "plt.show()\n"
   ]
  },
  {
   "cell_type": "code",
   "execution_count": null,
   "id": "3d54c09b-3a43-4de4-8cb3-59b6a27d013e",
   "metadata": {},
   "outputs": [],
   "source": [
    "# 筛选特定国家的数据\n",
    "countries_of_interest = ['China', 'Indonesia']\n",
    "filtered_data = merged_data[merged_data['country_name'].isin(countries_of_interest)]\n",
    "\n",
    "# 创建折线图\n",
    "plt.figure(figsize=(12, 8))\n",
    "sns.lineplot(data=filtered_data,\n",
    "             x='year',\n",
    "             y='annualized_growth_in_mean_consumption_or_income_per_capita-bottom_40%',\n",
    "             hue='country_name',\n",
    "             marker='o')\n",
    "\n",
    "plt.title('Economic Growth Over Time for Selected Countries', fontsize=16)\n",
    "plt.xlabel('Year', fontsize=14)\n",
    "plt.ylabel('Annualized Growth in Mean Consumption or Income per Capita - Bottom 40% (%)', fontsize=14)\n",
    "plt.legend(title='Country')\n",
    "plt.grid(True)\n",
    "plt.xticks(rotation=45)\n",
    "plt.tight_layout()\n",
    "plt.show()\n"
   ]
  },
  {
   "cell_type": "code",
   "execution_count": null,
   "id": "e7c37a39-6ee0-48fa-9c5e-71af2f7a9603",
   "metadata": {},
   "outputs": [],
   "source": [
    "# 创建一个新的DataFrame，用于热力图分析，包括年龄依赖比例和经济增长\n",
    "heatmap_data = merged_data[['country_name', 'year', 'age_dependency_ratio', 'annualized_growth_in_mean_consumption_or_income_per_capita-total_population']].copy()\n",
    "heatmap_data.set_index(['country_name', 'year'], inplace=True)\n",
    "\n",
    "# 转换为适合热力图的格式\n",
    "heatmap_data_pivot = heatmap_data.pivot_table(values='annualized_growth_in_mean_consumption_or_income_per_capita-total_population',\n",
    "                                              index='country_name',\n",
    "                                              columns='year')\n",
    "\n",
    "# 绘制热力图\n",
    "plt.figure(figsize=(12, 8))\n",
    "sns.heatmap(heatmap_data_pivot, annot=True, cmap='coolwarm', fmt=\".1f\", linewidths=.5)\n",
    "plt.title('Heatmap of Economic Growth vs. Age Dependency Ratio', fontsize=16)\n",
    "plt.xlabel('Year', fontsize=14)\n",
    "plt.ylabel('Country', fontsize=14)\n",
    "plt.savefig('./年龄依赖比例与经济增长heatmap.png')\n",
    "plt.show()\n"
   ]
  },
  {
   "cell_type": "code",
   "execution_count": null,
   "id": "2e8d90a9-8276-45bd-8bc9-cf7aa291f18a",
   "metadata": {
    "scrolled": true
   },
   "outputs": [],
   "source": [
    "# 确保国家名称在所有数据集中一致\n",
    "personality_data['country_name'] = personality_data['country'].map(country_code_to_name)\n",
    "\n",
    "# 提取年份信息，假设 personality_data 中的 dateload 字段包含了日期信息\n",
    "personality_data['year'] = pd.to_datetime(personality_data['dateload']).dt.year.astype(str)\n",
    "\n",
    "# 合并 personality 数据和之前合并的经济及人口数据\n",
    "full_merged_data = pd.merge(merged_data, personality_data, how='inner', on=['country_name', 'year'])\n",
    "\n",
    "# 检查合并后的数据结构\n",
    "full_merged_data.head(), full_merged_data.columns.tolist()\n"
   ]
  },
  {
   "cell_type": "code",
   "execution_count": null,
   "id": "3de109a0-afba-4690-b6fc-e7f2d6b17160",
   "metadata": {
    "scrolled": true
   },
   "outputs": [],
   "source": [
    "# 查看 Personality Data 和已合并数据集中的年份和国家名称的唯一值\n",
    "unique_values_personality = {\n",
    "    \"Personality Data Years\": personality_data['year'].unique(),\n",
    "    \"Personality Data Countries\": personality_data['country_name'].dropna().unique()\n",
    "}\n",
    "\n",
    "unique_values_merged = {\n",
    "    \"Merged Data Years\": merged_data['year'].unique(),\n",
    "    \"Merged Data Countries\": merged_data['country_name'].unique()\n",
    "}\n",
    "\n",
    "unique_values_personality, unique_values_merged\n"
   ]
  },
  {
   "cell_type": "code",
   "execution_count": null,
   "id": "2a1271f4-b435-47fd-93e1-8eb04e346475",
   "metadata": {},
   "outputs": [],
   "source": [
    "# 查看 Personality Data 中的 country 代码的唯一值\n",
    "unique_country_codes = personality_data['country'].unique()\n",
    "\n",
    "# 检查这些代码是否都在我们的映射中\n",
    "unmapped_codes = [code for code in unique_country_codes if code not in country_code_to_name]\n",
    "\n",
    "unique_country_codes, unmapped_codes\n"
   ]
  },
  {
   "cell_type": "code",
   "execution_count": null,
   "id": "d790ac05-0378-4311-bdd5-8fb5a2c2d1ac",
   "metadata": {},
   "outputs": [],
   "source": []
  },
  {
   "cell_type": "code",
   "execution_count": null,
   "id": "423ccd7d-34bf-4751-9bfb-2f0a40872e35",
   "metadata": {},
   "outputs": [],
   "source": []
  },
  {
   "cell_type": "code",
   "execution_count": null,
   "id": "1fc18331-dbd5-456c-adea-b3228f4690ef",
   "metadata": {
    "scrolled": true
   },
   "outputs": [],
   "source": [
    "# 简化版国家代码到名称的映射表\n",
    "country_code_name_map = {\n",
    "    'GB': 'United Kingdom', 'MY': 'Malaysia', 'US': 'United States', 'SE': 'Sweden',\n",
    "    'FI': 'Finland', 'UA': 'Ukraine', 'PH': 'Philippines', 'FR': 'France',\n",
    "    'AU': 'Australia', 'IN': 'India', 'CA': 'Canada', 'NL': 'Netherlands',\n",
    "    'ZA': 'South Africa', 'HK': 'Hong Kong', 'CN': 'China', 'JP': 'Japan',\n",
    "    'DE': 'Germany', 'BR': 'Brazil', 'IT': 'Italy', 'RU': 'Russia', 'ES': 'Spain'\n",
    "}\n",
    "\n",
    "# 更新 Personality Data 的 country_name 列\n",
    "personality_data['country_name'] = personality_data['country'].map(country_code_name_map)\n",
    "\n",
    "# 再次尝试合并 Personality Data 与已合并的数据\n",
    "full_merged_data = pd.merge(merged_data, personality_data, how='inner', on=['country_name', 'year'])\n",
    "\n",
    "# 检查合并后的数据\n",
    "full_merged_data.head(), full_merged_data.columns.tolist()\n"
   ]
  },
  {
   "cell_type": "code",
   "execution_count": null,
   "id": "d44cbf2b-8f24-44de-a29b-7899a021a565",
   "metadata": {},
   "outputs": [],
   "source": [
    "# 创建散点图：经济增长率 vs. 外向性 (EXT)\n",
    "plt.figure(figsize=(10, 6))\n",
    "sns.scatterplot(\n",
    "    data=full_merged_data,\n",
    "    x='annualized_growth_in_mean_consumption_or_income_per_capita-total_population',\n",
    "    y='ext',\n",
    "    hue='region',\n",
    "    style='type',\n",
    "    s=100\n",
    ")\n",
    "\n",
    "plt.title('Economic Growth vs. Extraversion (EXT)', fontsize=16)\n",
    "plt.xlabel('Economic Growth Rate (%)', fontsize=14)\n",
    "plt.ylabel('Extraversion Score', fontsize=14)\n",
    "plt.legend(title='Region/Type')\n",
    "plt.grid(True)\n",
    "plt.show()\n"
   ]
  },
  {
   "cell_type": "markdown",
   "id": "86313b82-ed07-46c8-91e8-3e4ee0e4cde6",
   "metadata": {},
   "source": [
    "这个散点图展示了不同地区的经济增长率与外向性（EXT）得分之间的关系。通过这种可视化，我们可以探索不同社会经济背景下人格特质的分布情况。"
   ]
  },
  {
   "cell_type": "code",
   "execution_count": null,
   "id": "f04893b9-979c-42ad-985c-2574be0af69c",
   "metadata": {},
   "outputs": [],
   "source": [
    "# 设置绘图风格\n",
    "sns.set(style=\"whitegrid\")\n",
    "\n",
    "# 创建一个包含所有人格维度与经济增长的散点图面板\n",
    "fig, axes = plt.subplots(3, 2, figsize=(14, 18), sharex=True)\n",
    "axes = axes.flatten()\n",
    "\n",
    "# 绘制每个人格维度与经济增长率的关系\n",
    "personality_traits = ['ext', 'agr', 'csn', 'est', 'opn']\n",
    "for i, trait in enumerate(personality_traits):\n",
    "    sns.scatterplot(\n",
    "        ax=axes[i],\n",
    "        data=full_merged_data,\n",
    "        x='annualized_growth_in_mean_consumption_or_income_per_capita-total_population',\n",
    "        y=trait,\n",
    "        hue='region',\n",
    "        style='type',\n",
    "        s=100\n",
    "    )\n",
    "    axes[i].set_title(f'Economic Growth vs. {trait.upper()}', fontsize=16)\n",
    "    axes[i].set_xlabel('Economic Growth Rate (%)', fontsize=14)\n",
    "    axes[i].set_ylabel(f'{trait.upper()} Score', fontsize=14)\n",
    "    axes[i].legend(title='Region/Type')\n",
    "\n",
    "# 调整布局\n",
    "plt.tight_layout()\n",
    "plt.savefig('./picture/所有人格维度与经济增长的散点图面板.png')\n",
    "plt.show()\n"
   ]
  },
  {
   "cell_type": "code",
   "execution_count": null,
   "id": "ab2684fc-c151-46f6-9206-4154aa69d3e1",
   "metadata": {},
   "outputs": [],
   "source": [
    "# 创建一个适用于热力图的数据框，包括所有人格维度和经济增长率\n",
    "heatmap_data = full_merged_data[['country_name', 'year', 'ext', 'agr', 'csn', 'est', 'opn',\n",
    "                                 'annualized_growth_in_mean_consumption_or_income_per_capita-total_population']].copy()\n",
    "heatmap_data.set_index(['country_name', 'year'], inplace=True)\n",
    "\n",
    "# 计算相关性矩阵\n",
    "correlation_matrix = heatmap_data.corr()\n",
    "\n",
    "# 绘制热力图\n",
    "plt.figure(figsize=(10, 8))\n",
    "sns.heatmap(correlation_matrix, annot=True, cmap='coolwarm', fmt=\".2f\", linewidths=.5)\n",
    "plt.title('Heatmap of Personality Traits and Economic Growth Correlation', fontsize=16)\n",
    "plt.show()\n"
   ]
  },
  {
   "cell_type": "code",
   "execution_count": null,
   "id": "e9077c24-b712-4a1c-98cc-d5ad5bff43f5",
   "metadata": {},
   "outputs": [],
   "source": [
    "# 假设 full_merged_data 已经包含了GDP数据，我们将使用population_total代替进行演示\n",
    "# 绘制人口增长率与外向性EXT的关系，气泡大小代表经济规模（这里使用人口总数模拟）\n",
    "\n",
    "plt.figure(figsize=(12, 8))\n",
    "sns.scatterplot(\n",
    "    data=full_merged_data,\n",
    "    x='population_growth',\n",
    "    y='ext',\n",
    "    size='population_total',\n",
    "    hue='region',\n",
    "    sizes=(50, 1000),  # 控制气泡大小范围\n",
    "    alpha=0.6,\n",
    "    legend='brief'\n",
    ")\n",
    "\n",
    "plt.title('Population Growth vs. Extraversion (Bubble Size: Economic Size)', fontsize=16)\n",
    "plt.xlabel('Population Growth (%)', fontsize=14)\n",
    "plt.ylabel('Extraversion (EXT) Score', fontsize=14)\n",
    "plt.grid(True)\n",
    "plt.legend(title='Region/Type')\n",
    "plt.show()\n"
   ]
  },
  {
   "cell_type": "markdown",
   "id": "39717777-5709-4881-adfd-38ce874d8a48",
   "metadata": {},
   "source": [
    "箱线图：展示不同经济水平（使用GDP或人均收入分组）下的人格特质分布，可以帮助我们看出经济水平对人格特质的影响。"
   ]
  },
  {
   "cell_type": "code",
   "execution_count": null,
   "id": "e5711a66-4280-45b0-b61d-7a2397899f01",
   "metadata": {},
   "outputs": [],
   "source": [
    "# 由于数据中经济增长率的分布可能过于集中，我们使用平均值进行分组，而非分位数\n",
    "mean_growth = full_merged_data['annualized_growth_in_mean_consumption_or_income_per_capita-total_population'].mean()\n",
    "full_merged_data['gdp_group'] = pd.cut(full_merged_data['annualized_growth_in_mean_consumption_or_income_per_capita-total_population'],\n",
    "                                       bins=[full_merged_data['annualized_growth_in_mean_consumption_or_income_per_capita-total_population'].min(), \n",
    "                                             mean_growth, \n",
    "                                             full_merged_data['annualized_growth_in_mean_consumption_or_income_per_capita-total_population'].max()],\n",
    "                                       labels=['Low', 'High'])\n",
    "\n",
    "# 重新创建箱线图\n",
    "plt.figure(figsize=(10, 6))\n",
    "sns.boxplot(\n",
    "    data=full_merged_data,\n",
    "    x='gdp_group',\n",
    "    y='ext',\n",
    "    palette='Set3'\n",
    ")\n",
    "\n",
    "plt.title('Extraversion (EXT) Across Economic Groups', fontsize=16)\n",
    "plt.xlabel('Economic Group (by Growth Rate)', fontsize=14)\n",
    "plt.ylabel('Extraversion (EXT) Score', fontsize=14)\n",
    "plt.show()\n"
   ]
  },
  {
   "cell_type": "code",
   "execution_count": null,
   "id": "aec775cb-b204-4f36-a2ce-d0caf7ea1bf8",
   "metadata": {},
   "outputs": [],
   "source": [
    "import matplotlib.pyplot as plt\n",
    "import seaborn as sns\n",
    "import pandas as pd\n",
    "\n",
    "\n",
    "# 计算经济增长率的平均值\n",
    "mean_growth = full_merged_data['annualized_growth_in_mean_consumption_or_income_per_capita-total_population'].mean()\n",
    "\n",
    "# 将经济增长率分组\n",
    "full_merged_data['gdp_group'] = pd.cut(full_merged_data['annualized_growth_in_mean_consumption_or_income_per_capita-total_population'],\n",
    "                                       bins=[full_merged_data['annualized_growth_in_mean_consumption_or_income_per_capita-total_population'].min(), \n",
    "                                             mean_growth, \n",
    "                                             full_merged_data['annualized_growth_in_mean_consumption_or_income_per_capita-total_population'].max()],\n",
    "                                       labels=['Low', 'High'])\n",
    "\n",
    "# 设置绘图风格\n",
    "sns.set(style=\"whitegrid\")\n",
    "\n",
    "# 人格特质列表\n",
    "traits = ['ext', 'est', 'agr', 'csn', 'opn']\n",
    "titles = ['Extraversion (EXT)', 'Emotional Stability (EST)', 'Agreeableness (AGR)', 'Conscientiousness (CSN)', 'Openness (OPN)']\n",
    "\n",
    "# 逐个绘制箱线图\n",
    "for trait, title in zip(traits, titles):\n",
    "    plt.figure(figsize=(10, 6))\n",
    "    sns.boxplot(\n",
    "        data=full_merged_data,\n",
    "        x='gdp_group',\n",
    "        y=trait,\n",
    "        palette='Set3'\n",
    "    )\n",
    "\n",
    "    plt.title(f'{title} Across Economic Groups', fontsize=16)\n",
    "    plt.xlabel('Economic Group (by Growth Rate)', fontsize=14)\n",
    "    plt.ylabel(f'{title} Score', fontsize=14)\n",
    "    plt.savefig(f'./picture/{trait}_economic_groups_boxplot.png', bbox_inches='tight')\n",
    "    plt.show()\n"
   ]
  },
  {
   "cell_type": "markdown",
   "id": "97f8cdc0-d7ca-40b0-8a38-ed9ccb1c903f",
   "metadata": {},
   "source": [
    "雷达图：展示顶尖经济体和发展中经济体的五大人格特质的平均分，对比不同经济背景下的人格差异。"
   ]
  },
  {
   "cell_type": "code",
   "execution_count": null,
   "id": "ffb5f13d-6121-4339-8e88-a0c564c6b690",
   "metadata": {},
   "outputs": [],
   "source": [
    "# 修正雷达图数据准备\n",
    "# 计算每个经济组内的五大人格平均值\n",
    "personality_means = full_merged_data.groupby('gdp_group')[['ext', 'agr', 'csn', 'est', 'opn']].mean().reset_index()\n",
    "\n",
    "# 设置雷达图参数\n",
    "labels = np.array(['EXT', 'AGR', 'CSN', 'EST', 'OPN'])\n",
    "num_vars = len(labels)\n",
    "\n",
    "# 创建角度数组\n",
    "angles = np.linspace(0, 2 * np.pi, num_vars, endpoint=False).tolist() + [0]\n",
    "\n",
    "fig, ax = plt.subplots(figsize=(8, 8), subplot_kw=dict(polar=True))\n",
    "\n",
    "# 绘制每个经济组的雷达图\n",
    "for idx, row in personality_means.iterrows():\n",
    "    values = row[['ext', 'agr', 'csn', 'est', 'opn']].tolist() + [row['ext']]\n",
    "    ax.plot(angles, values, linewidth=1, linestyle='solid', label=row['gdp_group'])\n",
    "    ax.fill(angles, values, alpha=0.25)\n",
    "\n",
    "ax.set_thetagrids(np.degrees(angles[:-1]), labels)\n",
    "ax.set_title('Personality Traits by Economic Group', fontsize=15, y=1.1)\n",
    "ax.legend(title='Economic Group', loc='upper right', bbox_to_anchor=(0.1, 0.1))\n",
    "plt.show()\n"
   ]
  },
  {
   "cell_type": "code",
   "execution_count": null,
   "id": "deaa842c-9876-4a89-98a9-8d7037ec065a",
   "metadata": {},
   "outputs": [],
   "source": [
    "# 为简化，手动指定两个组以避免重复边界问题\n",
    "full_merged_data['gdp_group'] = pd.cut(\n",
    "    full_merged_data['annualized_growth_in_mean_consumption_or_income_per_capita-total_population'],\n",
    "    bins=[full_merged_data['annualized_growth_in_mean_consumption_or_income_per_capita-total_population'].min() - 1,  # 少于最小值\n",
    "          0,  # 假设0为分界线\n",
    "          full_merged_data['annualized_growth_in_mean_consumption_or_income_per_capita-total_population'].max() + 1],  # 超过最大值\n",
    "    labels=['Low', 'High']\n",
    ")\n",
    "\n",
    "# 重新计算每个经济组内的五大人格平均值\n",
    "personality_means = full_merged_data.groupby('gdp_group')[['ext', 'agr', 'csn', 'est', 'opn']].mean().reset_index()\n",
    "\n",
    "# 设置雷达图参数\n",
    "labels = np.array(['EXT', 'AGR', 'CSN', 'EST', 'OPN'])\n",
    "num_vars = len(labels)\n",
    "\n",
    "# 创建角度数组\n",
    "angles = np.linspace(0, 2 * np.pi, num_vars, endpoint=False).tolist() + [0]\n",
    "\n",
    "fig, ax = plt.subplots(figsize=(8, 8), subplot_kw=dict(polar=True))\n",
    "\n",
    "# 绘制每个经济组的雷达图\n",
    "for idx, row in personality_means.iterrows():\n",
    "    values = row[['ext', 'agr', 'csn', 'est', 'opn']].tolist() + [row['ext']]\n",
    "    ax.plot(angles, values, linewidth=1, linestyle='solid', label=f'{row[\"gdp_group\"]} Economic Growth')\n",
    "    ax.fill(angles, values, alpha=0.25)\n",
    "\n",
    "ax.set_thetagrids(np.degrees(angles[:-1]), labels)\n",
    "ax.set_title('Personality Traits by Economic Group', fontsize=15, y=1.1)\n",
    "ax.legend(title='Economic Group', loc='upper right', bbox_to_anchor=(0.1, 0.1))\n",
    "plt.show()\n"
   ]
  },
  {
   "cell_type": "markdown",
   "id": "43c0ea07-3597-4f30-9eb4-117895e1fbe8",
   "metadata": {},
   "source": [
    "地图：如果数据包括足够的国家级细节，可以在世界地图上展示不同国家的人格特质平均分或特定人格与经济指标的关联。"
   ]
  },
  {
   "cell_type": "code",
   "execution_count": null,
   "id": "20c127ee-5e3e-4d4b-b41b-d74744a04a5f",
   "metadata": {},
   "outputs": [],
   "source": [
    "import geopandas as gpd\n",
    "import matplotlib.pyplot as plt\n",
    "\n",
    "# 加载世界地图数据\n",
    "world = gpd.read_file('./ne_110m_admin_0_countries/ne_110m_admin_0_countries.shp')\n",
    "print(world.columns)\n",
    "# 创建示例数据：国家ISO代码和外向性（EXT）得分\n",
    "example_data = pd.DataFrame({\n",
    "    'SOV_A3': ['USA', 'BRA', 'RUS', 'IND', 'CHN', 'AUS', 'FRA', 'DEU'],\n",
    "    'ext_score': [30, 25, 20, 35, 28, 32, 27, 29]\n",
    "})\n",
    "\n",
    "# 合并地图数据和人格特质得分数据\n",
    "world = world.merge(example_data, how=\"left\", on=\"SOV_A3\")\n",
    "\n",
    "# 绘制地图\n",
    "fig, ax = plt.subplots(1, 1, figsize=(15, 10))\n",
    "world.boundary.plot(ax=ax)\n",
    "world.plot(column='ext_score', ax=ax, legend=True,\n",
    "           legend_kwds={'label': \"Extraversion (EXT) Score\"},\n",
    "           cmap='OrRd', missing_kwds={'color': 'lightgrey'})\n",
    "\n",
    "plt.title('Global Distribution of Extraversion Scores', fontsize=15)\n",
    "plt.show()\n"
   ]
  },
  {
   "cell_type": "markdown",
   "id": "29ee2086-f3fd-4abf-a5a9-a6d919bc751e",
   "metadata": {},
   "source": [
    "## 人口"
   ]
  },
  {
   "cell_type": "code",
   "execution_count": null,
   "id": "0c664360-24f9-479a-9021-6d31ce024c18",
   "metadata": {},
   "outputs": [],
   "source": [
    "import pandas as pd\n",
    "import geopandas as gpd\n",
    "import matplotlib.pyplot as plt\n",
    "import pycountry\n",
    "\n",
    "# 加载人口数据\n",
    "population_data = pd.read_excel('population.xlsx')\n",
    "\n",
    "# 加载世界地图数据\n",
    "world = gpd.read_file('./ne_110m_admin_0_countries/ne_110m_admin_0_countries.shp')\n",
    "\n"
   ]
  },
  {
   "cell_type": "code",
   "execution_count": null,
   "id": "f8091409-d6f1-4c42-87c8-acdb8d8b5919",
   "metadata": {},
   "outputs": [],
   "source": [
    "# 将国家名称转换为ISO代码\n",
    "ctr_to_country = {i.name: i.alpha_3 for i in pycountry.countries}\n",
    "\n",
    "def convert_country_name_to_iso(name):\n",
    "    try:\n",
    "        return ctr_to_country[name]\n",
    "    except KeyError:\n",
    "        return None\n",
    "\n",
    "population_data['iso_a3'] = population_data['country_name'].apply(convert_country_name_to_iso)\n",
    "\n",
    "# 合并数据\n",
    "merged_data = world.set_index('iso_a3').join(population_data.set_index('iso_a3'))\n"
   ]
  },
  {
   "cell_type": "code",
   "execution_count": null,
   "id": "0170a58a-ce4d-4b4e-870e-1db489527c6e",
   "metadata": {},
   "outputs": [],
   "source": [
    "plt.figure(figsize=(15, 10))\n",
    "ax = merged_data.plot(column='population_total', cmap='OrRd', legend=True, \n",
    "                      legend_kwds={'label': \"Total Population by Country\",\n",
    "                                   'orientation': \"horizontal\"})\n",
    "ax.set_title('World Map of Total Population by Country', fontsize=16)\n",
    "plt.savefig('./picture/world_map_total_population.png', bbox_inches='tight')\n",
    "plt.show()\n"
   ]
  },
  {
   "cell_type": "code",
   "execution_count": null,
   "id": "1c206cf1-801f-40f2-ba5b-ab7b9ec16876",
   "metadata": {},
   "outputs": [],
   "source": [
    "plt.figure(figsize=(15, 10))\n",
    "ax = merged_data.plot(column='population_growth', cmap='YlGn', legend=True, \n",
    "                      legend_kwds={'label': \"Population Growth Rate by Country\",\n",
    "                                   'orientation': \"horizontal\"})\n",
    "ax.set_title('World Map of Population Growth Rate by Country', fontsize=16)\n",
    "plt.savefig('./picture/world_map_population_growth.png', bbox_inches='tight')\n",
    "plt.show()\n"
   ]
  },
  {
   "cell_type": "code",
   "execution_count": null,
   "id": "d91a2b4d-1917-47c8-97c7-0e9cff44edd9",
   "metadata": {},
   "outputs": [],
   "source": [
    "# 示例数据处理\n",
    "# 将数据整理为适合绘制人口金字塔图的格式\n",
    "age_groups = ['0-14', '15-64', '65+']\n",
    "population_data['age_group'] = pd.cut(population_data['year'],\n",
    "                                      bins=[0, 14, 64, 100],\n",
    "                                      labels=age_groups)\n",
    "\n",
    "plt.figure(figsize=(12, 8))\n",
    "sns.barplot(data=population_data, x='age_group', y='population_total', hue='gender')\n",
    "plt.title('Population Pyramid by Age Group', fontsize=16)\n",
    "plt.xlabel('Age Group', fontsize=14)\n",
    "plt.ylabel('Total Population', fontsize=14)\n",
    "plt.legend(title='Gender')\n",
    "plt.savefig('./picture/population_pyramid.png', bbox_inches='tight')\n",
    "plt.show()\n"
   ]
  },
  {
   "cell_type": "code",
   "execution_count": null,
   "id": "42f2ef8a-d3dc-43ef-a432-c1d320a59521",
   "metadata": {},
   "outputs": [],
   "source": [
    "plt.figure(figsize=(10, 8))\n",
    "sns.scatterplot(data=population_data, x='birth_rate_crude', y='death_rate_crude', hue='country_name')\n",
    "plt.title('Scatter Plot: Birth Rate vs Death Rate by Country', fontsize=16)\n",
    "plt.xlabel('Crude Birth Rate', fontsize=14)\n",
    "plt.ylabel('Crude Death Rate', fontsize=14)\n",
    "plt.legend(loc='center left', bbox_to_anchor=(1, 0.5), ncol=2)\n",
    "plt.savefig('./picture/birth_death_scatter.png', bbox_inches='tight')\n",
    "plt.show()\n"
   ]
  },
  {
   "cell_type": "code",
   "execution_count": null,
   "id": "55de57c4-c73b-413b-896f-9f088c61adf2",
   "metadata": {},
   "outputs": [],
   "source": []
  },
  {
   "cell_type": "code",
   "execution_count": null,
   "id": "d1fccc51-10ff-463a-a7d4-48b3720eb0f5",
   "metadata": {},
   "outputs": [],
   "source": []
  },
  {
   "cell_type": "code",
   "execution_count": null,
   "id": "d06464be-3524-47f8-8e35-317b5b66e3af",
   "metadata": {},
   "outputs": [],
   "source": []
  }
 ],
 "metadata": {
  "kernelspec": {
   "display_name": "Python 3 (ipykernel)",
   "language": "python",
   "name": "python3"
  },
  "language_info": {
   "codemirror_mode": {
    "name": "ipython",
    "version": 3
   },
   "file_extension": ".py",
   "mimetype": "text/x-python",
   "name": "python",
   "nbconvert_exporter": "python",
   "pygments_lexer": "ipython3",
   "version": "3.9.4"
  }
 },
 "nbformat": 4,
 "nbformat_minor": 5
}

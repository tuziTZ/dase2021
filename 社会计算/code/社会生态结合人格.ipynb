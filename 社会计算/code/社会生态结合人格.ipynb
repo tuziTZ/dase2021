{
 "cells": [
  {
   "cell_type": "code",
   "execution_count": null,
   "id": "34797bb0-99ab-4736-9b94-9ee71da009a4",
   "metadata": {},
   "outputs": [],
   "source": [
    "import pycountry\n",
    "ctr_to_country = {i for i in pycountry.countries}\n",
    "print(ctr_to_country)"
   ]
  },
  {
   "cell_type": "code",
   "execution_count": null,
   "id": "ac70dd4f-05df-44fb-9872-8f640e6afb0a",
   "metadata": {},
   "outputs": [],
   "source": [
    "import pandas as pd\n",
    "import pycountry\n",
    "\n",
    "# 加载数据集\n",
    "gdsp = pd.read_excel('GDSP.xlsx')\n",
    "gdsp_median_income = pd.read_excel('GDSP-and-Median-Income-historical-AM23.xlsx', sheet_name=None)\n",
    "# personality_data = pd.read_csv('personality_data.csv')\n",
    "personality_data = pd.read_csv('new_personality_data.csv')\n",
    "population_data = pd.read_csv('世界各国人口结构数据 2008-2021.csv')\n",
    "\n",
    "# 创建国家名称到 ISO 代码的映射字典\n",
    "ctr_to_country = {country.name: country.alpha_3 for country in pycountry.countries}\n",
    "ctr_to_country.update({country.alpha_2: country.alpha_3 for country in pycountry.countries})\n",
    "ctr_to_country.update({country.alpha_3: country.alpha_3 for country in pycountry.countries})\n",
    "\n",
    "# 标准化国家名称\n",
    "def standardize_country_names(df, column_name):\n",
    "    df[column_name] = df[column_name].map(ctr_to_country)\n",
    "    return df\n",
    "\n",
    "gdsp = standardize_country_names(gdsp, 'Country')\n",
    "personality_data = standardize_country_names(personality_data, 'country')\n",
    "population_data = standardize_country_names(population_data, 'country_name')\n",
    "\n",
    "# 处理缺失值\n",
    "gdsp.dropna(inplace=True)\n",
    "personality_data.dropna(inplace=True)\n",
    "population_data.dropna(inplace=True)\n"
   ]
  },
  {
   "cell_type": "code",
   "execution_count": null,
   "id": "538244ad-7352-4727-aa36-3b9ec6a1d0c6",
   "metadata": {},
   "outputs": [],
   "source": [
    "gdsp.head()"
   ]
  },
  {
   "cell_type": "code",
   "execution_count": null,
   "id": "e2c5bf2d-b5bf-4abe-ae35-fcf09f718bea",
   "metadata": {},
   "outputs": [],
   "source": [
    "personality_data.head()"
   ]
  },
  {
   "cell_type": "code",
   "execution_count": null,
   "id": "2d72c6c7-9ae8-432f-824d-ec25e69b2efe",
   "metadata": {},
   "outputs": [],
   "source": [
    "population_data.head()"
   ]
  },
  {
   "cell_type": "code",
   "execution_count": null,
   "id": "4a19938d-e73c-4942-b2e1-8ad638c123bf",
   "metadata": {},
   "outputs": [],
   "source": [
    "# 合并经济数据和人格数据\n",
    "economic_personality_data = pd.merge(personality_data, gdsp, left_on='country', right_on='Country', how='outer')\n",
    "\n",
    "# 保存合并后的数据\n",
    "economic_personality_data.to_excel('economic_personality_data.xlsx', index=False)\n",
    "\n",
    "# import ace_tools as tools; \n",
    "# tools.display_dataframe_to_user(name=\"Economic and Personality Data\", dataframe=economic_personality_data)\n",
    "# tools.display_dataframe_to_user(name=\"Population and Personality Data\", dataframe=population_personality_data)\n"
   ]
  },
  {
   "cell_type": "code",
   "execution_count": null,
   "id": "dd0f2463-4c9e-4faa-bdd5-4c3cfc2d9d1d",
   "metadata": {},
   "outputs": [],
   "source": [
    "import matplotlib.pyplot as plt\n",
    "import matplotlib.font_manager as fm\n",
    "import seaborn as sns\n",
    "\n",
    "# 设置绘图风格\n",
    "sns.set(style=\"whitegrid\")\n",
    "\n",
    "# 设置中文字体\n",
    "zh_font_path = fm.findSystemFonts(fontpaths=None, fontext='ttf')\n",
    "for font_path in zh_font_path:\n",
    "    if 'SimHei' in font_path or 'simsun' in font_path:\n",
    "        zh_font = fm.FontProperties(fname=font_path)\n",
    "        break\n",
    "\n",
    "# 热力图：经济数据与人格特质的关联\n",
    "plt.figure(figsize=(12, 10))\n",
    "heatmap_data = economic_personality_data[['EXT', 'EST', 'AGR', 'CSN', 'OPN', 'Annualized growth in mean consumption or income per capita-Total Population', 'Baseline-Total Population$ a day (PPP)']]\n",
    "heatmap_data = heatmap_data.dropna()\n",
    "correlation = heatmap_data.corr()\n",
    "sns.heatmap(correlation, annot=True, cmap=\"YlGnBu\")\n",
    "plt.title('经济数据与人格特质的热力图')\n",
    "plt.show()\n",
    "\n",
    "# 散点图：某个经济因素与某个人格特质的关系\n",
    "plt.figure(figsize=(10, 8))\n",
    "sns.scatterplot(data=economic_personality_data, x='Annualized growth in mean consumption or income per capita-Total Population', y='EXT', hue='Country')\n",
    "plt.title('经济增长与外向性的关系散点图')\n",
    "plt.show()\n",
    "\n",
    "# 折线图：不同年份的经济变化与某个人格特质的关系\n",
    "plt.figure(figsize=(10, 8))\n",
    "sns.lineplot(data=economic_personality_data, x='Period', y='EST', hue='Country')\n",
    "plt.title('不同年份的经济变化与情绪稳定性的关系折线图')\n",
    "plt.show()\n",
    "\n",
    "# 气泡图：经济因素与某个人格特质的关系\n",
    "plt.figure(figsize=(10, 8))\n",
    "sns.scatterplot(data=economic_personality_data, x='Annualized growth in mean consumption or income per capita-Total Population', y='AGR', size='Baseline-Total Population$ a day (PPP)', hue='Country', sizes=(20, 2000), legend=False)\n",
    "plt.title('经济增长与宜人性的关系气泡图')\n",
    "plt.show()\n"
   ]
  },
  {
   "cell_type": "markdown",
   "id": "ea1ed765-ce02-4840-9d04-649b14b707bb",
   "metadata": {},
   "source": [
    "### 热力图\n",
    "增加标题字体大小和标签字体大小\n",
    "将图例放置在图旁边"
   ]
  },
  {
   "cell_type": "code",
   "execution_count": null,
   "id": "3304ac00-4b06-4df3-98a8-cc3923929f40",
   "metadata": {},
   "outputs": [],
   "source": [
    "# 设置绘图风格\n",
    "sns.set(style=\"whitegrid\")\n",
    "\n",
    "# 设置英文字体\n",
    "plt.rcParams[\"font.family\"] = \"Arial\"\n",
    "\n",
    "\n",
    "# 热力图：经济数据与人格特质的关联\n",
    "plt.figure(figsize=(12, 10))\n",
    "heatmap_data = economic_personality_data[['EXT', 'EST', 'AGR', 'CSN', 'OPN', 'Annualized growth in mean consumption or income per capita-Total Population', 'Baseline-Total Population$ a day (PPP)']]\n",
    "heatmap_data = heatmap_data.dropna()\n",
    "correlation = heatmap_data.corr()\n",
    "sns.heatmap(correlation, annot=True, cmap=\"YlGnBu\", cbar_kws={'shrink': 0.8})\n",
    "plt.title('Heatmap of Economic Data and Personality Traits', fontsize=16)\n",
    "plt.savefig('./picture/111economic_personality_heatmap.png', bbox_inches='tight')\n",
    "plt.show()\n"
   ]
  },
  {
   "cell_type": "code",
   "execution_count": null,
   "id": "81a52b45-5025-484b-905a-58e97d927cba",
   "metadata": {},
   "outputs": [],
   "source": [
    "import pandas as pd\n",
    "import matplotlib.pyplot as plt\n",
    "import seaborn as sns\n",
    "import numpy as np\n",
    "\n",
    "# 设置绘图风格\n",
    "sns.set(style=\"whitegrid\")\n",
    "\n",
    "# 设置英文字体\n",
    "plt.rcParams[\"font.family\"] = \"Arial\"\n",
    "\n",
    "# 加载数据\n",
    "combined_data =  economic_personality_data\n",
    "\n",
    "# 选择需要的列并处理缺失值\n",
    "heatmap_data = combined_data[['EXT', 'EST', 'AGR', 'CSN', 'OPN', \n",
    "                             'Annualized growth in mean consumption or income per capita-Total Population', \n",
    "                             'Baseline-Total Population$ a day (PPP)']]\n",
    "heatmap_data = heatmap_data.dropna()\n",
    "\n",
    "# 对数据进行变换（例如取对数）\n",
    "transformed_data = heatmap_data.copy()\n",
    "transformed_data.iloc[:, 5:] = transformed_data.iloc[:, 5:].apply(np.log1p)\n",
    "\n",
    "# 计算相关性矩阵\n",
    "correlation = transformed_data.corr()\n",
    "\n",
    "# 绘制热力图\n",
    "plt.figure(figsize=(12, 10))\n",
    "sns.heatmap(correlation, annot=True, cmap=\"YlGnBu\", cbar_kws={'shrink': 0.8})\n",
    "plt.title('Heatmap of Economic Data and Personality Traits (Log Transformed)', fontsize=16)\n",
    "plt.savefig('./picture/new_economic_personality_heatmap_log_transformed.png', bbox_inches='tight')\n",
    "plt.show()\n"
   ]
  },
  {
   "cell_type": "code",
   "execution_count": null,
   "id": "cda19542-8978-415b-a304-75321f7c0c77",
   "metadata": {
    "scrolled": true
   },
   "outputs": [],
   "source": [
    "# 设置绘图风格\n",
    "sns.set(style=\"whitegrid\")\n",
    "\n",
    "# 设置英文字体\n",
    "plt.rcParams[\"font.family\"] = \"Arial\"\n",
    "\n",
    "\n",
    "# 热力图：经济数据与人格特质的关联\n",
    "plt.figure(figsize=(12, 10))\n",
    "heatmap_data = economic_personality_data[['EXT', 'EST', 'AGR', 'CSN', 'OPN', 'Annualized growth in mean consumption or income per capita-Total Population', 'Baseline-Total Population$ a day (PPP)']]\n",
    "heatmap_data = heatmap_data.dropna()\n",
    "correlation = heatmap_data.corr()\n",
    "sns.heatmap(correlation, annot=True, cmap=\"YlGnBu\", cbar_kws={'shrink': 0.8})\n",
    "plt.title('Heatmap of Economic Data and Personality Traits', fontsize=16)\n",
    "plt.savefig('./picture/economic_personality_heatmap.png', bbox_inches='tight')\n",
    "plt.show()\n"
   ]
  },
  {
   "cell_type": "markdown",
   "id": "91a8c1f5-9f51-4fb0-9dd3-13d608a9599f",
   "metadata": {},
   "source": [
    "### 散点图\n"
   ]
  },
  {
   "cell_type": "code",
   "execution_count": null,
   "id": "43716f5f-eaf9-45b7-8aba-9b11bf6edcec",
   "metadata": {
    "scrolled": true
   },
   "outputs": [],
   "source": [
    "# 散点图：某个经济因素与某个人格特质的关系\n",
    "plt.figure(figsize=(10, 8))\n",
    "sns.scatterplot(data=economic_personality_data, x='Annualized growth in mean consumption or income per capita-Total Population', y='EXT', hue='Country')\n",
    "plt.title('Scatter Plot: Economic Growth vs. Extroversion', fontsize=16)\n",
    "plt.xlabel('Annualized Growth in Mean Consumption or Income per Capita', fontsize=12)\n",
    "plt.ylabel('Extroversion', fontsize=12)\n",
    "plt.legend(loc='center left', bbox_to_anchor=(1, 0.5), ncol=2)\n",
    "plt.savefig('./picture/economic_ext_scatter.png', bbox_inches='tight')\n",
    "plt.show()"
   ]
  },
  {
   "cell_type": "code",
   "execution_count": null,
   "id": "e88dde04-91a9-4c7d-adac-ea1a7871f85d",
   "metadata": {
    "scrolled": true
   },
   "outputs": [],
   "source": [
    "import pandas as pd\n",
    "import matplotlib.pyplot as plt\n",
    "import seaborn as sns\n",
    "\n",
    "# 选择一些具有代表性的国家\n",
    "selected_countries = ['GBR', 'USA', 'CHN', 'IND', 'DEU']  # 英国，美国，中国，印度，德国\n",
    "\n",
    "# 筛选出这些国家的数据\n",
    "filtered_data = economic_personality_data[economic_personality_data['Country'].isin(selected_countries)]\n",
    "\n",
    "# 设置绘图风格和颜色\n",
    "sns.set(style=\"whitegrid\")\n",
    "palette = sns.color_palette(\"Set1\", len(selected_countries))\n",
    "\n",
    "# 绘制散点图\n",
    "plt.figure(figsize=(12, 8))\n",
    "sns.scatterplot(data=filtered_data, \n",
    "                x='Annualized growth in mean consumption or income per capita-Total Population', \n",
    "                y='EXT', \n",
    "                hue='Country', \n",
    "                palette=palette, \n",
    "                alpha=0.7, \n",
    "                s=100)\n",
    "plt.title('Scatter Plot: Economic Growth vs. Extroversion', fontsize=16)\n",
    "plt.xlabel('Annualized Growth in Mean Consumption or Income per Capita', fontsize=12)\n",
    "plt.ylabel('Extroversion', fontsize=12)\n",
    "plt.legend(title='Country', loc='center left', bbox_to_anchor=(1, 0.5), ncol=1)\n",
    "plt.grid(True, linestyle='--', alpha=0.7)\n",
    "\n",
    "# 添加回归线\n",
    "sns.regplot(data=filtered_data, \n",
    "            x='Annualized growth in mean consumption or income per capita-Total Population', \n",
    "            y='EXT', \n",
    "            scatter=False, \n",
    "            color='gray', \n",
    "            line_kws={\"lw\":2})\n",
    "\n",
    "# 保存图表\n",
    "plt.savefig('./picture1/economic_ext_scatter_selected.png', bbox_inches='tight')\n",
    "plt.show()\n"
   ]
  },
  {
   "cell_type": "code",
   "execution_count": null,
   "id": "b5868486-8125-4259-ad3f-0322c78f5979",
   "metadata": {
    "scrolled": true
   },
   "outputs": [],
   "source": [
    "import pandas as pd\n",
    "import seaborn as sns\n",
    "import matplotlib.pyplot as plt\n",
    "\n",
    "# 选择一些具有代表性的国家\n",
    "selected_countries = ['GBR', 'USA', 'CHN', 'IND', 'DEU']  # 英国，美国，中国，印度，德国\n",
    "\n",
    "# 筛选出这些国家的数据\n",
    "filtered_data = economic_personality_data[economic_personality_data['Country'].isin(selected_countries)]\n",
    "\n",
    "# 描述性统计\n",
    "desc_stats = filtered_data[['Country', 'Annualized growth in mean consumption or income per capita-Total Population', 'EXT']].groupby('Country').mean()\n",
    "print(\"描述性统计：\")\n",
    "print(desc_stats)\n",
    "\n",
    "# 计算相关系数\n",
    "correlation = filtered_data[['Annualized growth in mean consumption or income per capita-Total Population', 'EXT']].corr()\n",
    "print(\"\\n相关系数：\")\n",
    "print(correlation)\n",
    "\n",
    "# 绘制相关性散点图和回归线\n",
    "sns.set(style=\"whitegrid\")\n",
    "plt.figure(figsize=(12, 8))\n",
    "sns.regplot(data=filtered_data, \n",
    "            x='Annualized growth in mean consumption or income per capita-Total Population', \n",
    "            y='EXT', \n",
    "            scatter=True, \n",
    "            color='blue', \n",
    "            line_kws={\"color\":\"red\"})\n",
    "plt.title('Scatter Plot with Regression Line: Economic Growth vs. Extroversion', fontsize=16)\n",
    "plt.xlabel('Annualized Growth in Mean Consumption or Income per Capita', fontsize=12)\n",
    "plt.ylabel('Extroversion', fontsize=12)\n",
    "plt.grid(True, linestyle='--', alpha=0.7)\n",
    "plt.show()\n"
   ]
  },
  {
   "cell_type": "code",
   "execution_count": null,
   "id": "6aa40d0e-666c-48db-a139-5631366b9d8f",
   "metadata": {
    "scrolled": true
   },
   "outputs": [],
   "source": [
    "import pandas as pd\n",
    "import matplotlib.pyplot as plt\n",
    "import seaborn as sns\n",
    "\n",
    "\n",
    "# 选择一些具有代表性的国家\n",
    "selected_countries = ['GBR', 'USA', 'CHN', 'IND', 'DEU']  # 英国，美国，中国，印度，德国\n",
    "\n",
    "# 筛选出这些国家的数据\n",
    "filtered_data = economic_personality_data[economic_personality_data['Country'].isin(selected_countries)]\n",
    "\n",
    "# 计算经济增长率的分位数并分组\n",
    "growth_bins = pd.qcut(\n",
    "    filtered_data['Annualized growth in mean consumption or income per capita-Total Population'], \n",
    "    q=3, \n",
    "    duplicates='drop',\n",
    "    retbins=True\n",
    ")\n",
    "\n",
    "# 动态生成标签\n",
    "bin_count = len(growth_bins[1]) - 1\n",
    "labels = ['Low', 'Medium', 'High'][:bin_count]\n",
    "\n",
    "# 使用实际生成的箱数分组\n",
    "filtered_data['growth_group'] = pd.qcut(\n",
    "    filtered_data['Annualized growth in mean consumption or income per capita-Total Population'], \n",
    "    q=bin_count, \n",
    "    labels=labels\n",
    ")\n",
    "\n",
    "# 绘制箱线图\n",
    "plt.figure(figsize=(12, 8))\n",
    "sns.boxplot(data=filtered_data, x='growth_group', y='EXT', palette='Set3')\n",
    "plt.title('Box Plot: Extroversion across Economic Growth Groups', fontsize=16)\n",
    "plt.xlabel('Economic Growth Group', fontsize=12)\n",
    "plt.ylabel('Extroversion', fontsize=12)\n",
    "plt.grid(True, linestyle='--', alpha=0.7)\n",
    "plt.show()\n"
   ]
  },
  {
   "cell_type": "code",
   "execution_count": null,
   "id": "ab6c45a8-20b4-4ded-a51c-7c3f9c6430da",
   "metadata": {},
   "outputs": [],
   "source": [
    "import pandas as pd\n",
    "import matplotlib.pyplot as plt\n",
    "import seaborn as sns\n",
    "\n",
    "# 选择一些具有代表性的国家\n",
    "selected_countries = ['GBR', 'USA', 'CHN', 'IND', 'DEU']  # 英国，美国，中国，印度，德国\n",
    "\n",
    "# 筛选出这些国家的数据\n",
    "filtered_data = economic_personality_data[economic_personality_data['Country'].isin(selected_countries)]\n",
    "\n",
    "# 计算经济增长率的分位数并分组\n",
    "growth_bins = pd.qcut(\n",
    "    filtered_data['Annualized growth in mean consumption or income per capita-Total Population'], \n",
    "    q=3, \n",
    "    duplicates='drop',\n",
    "    retbins=True\n",
    ")\n",
    "\n",
    "# 动态生成标签\n",
    "bin_count = len(growth_bins[1]) - 1\n",
    "labels = ['Low', 'Medium', 'High'][:bin_count]\n",
    "\n",
    "# 使用实际生成的箱数分组\n",
    "filtered_data['growth_group'] = pd.qcut(\n",
    "    filtered_data['Annualized growth in mean consumption or income per capita-Total Population'], \n",
    "    q=bin_count, \n",
    "    labels=labels\n",
    ")\n",
    "\n",
    "# 人格特质列表\n",
    "traits = ['EXT', 'EST', 'AGR', 'CSN', 'OPN']\n",
    "titles = ['Extroversion (EXT)', 'Emotional Stability (EST)', 'Agreeableness (AGR)', 'Conscientiousness (CSN)', 'Openness (OPN)']\n",
    "\n",
    "# 绘制并保存每个人格特质的箱线图\n",
    "for trait, title in zip(traits, titles):\n",
    "    plt.figure(figsize=(12, 8))\n",
    "    sns.boxplot(data=filtered_data, x='growth_group', y=trait, palette='Set3')\n",
    "    plt.title(f'Box Plot: {title} across Economic Growth Groups', fontsize=16)\n",
    "    plt.xlabel('Economic Growth Group', fontsize=12)\n",
    "    plt.ylabel(title, fontsize=12)\n",
    "    plt.grid(True, linestyle='--', alpha=0.7)\n",
    "    output_path = f'./picture/{trait}_economic_growth_boxplot.png'\n",
    "    plt.savefig(output_path, bbox_inches='tight')\n",
    "    plt.show()\n"
   ]
  },
  {
   "cell_type": "code",
   "execution_count": null,
   "id": "32a9cf5f-1a1c-4f96-a01f-9cff53e9a5d0",
   "metadata": {},
   "outputs": [],
   "source": [
    "import statsmodels.api as sm\n",
    "\n",
    "# 准备回归模型数据\n",
    "X = filtered_data['Annualized growth in mean consumption or income per capita-Total Population']\n",
    "y = filtered_data['EXT']\n",
    "X = sm.add_constant(X)  # 添加常数项\n",
    "\n",
    "# 进行线性回归\n",
    "model = sm.OLS(y, X).fit()\n",
    "print(model.summary())\n"
   ]
  },
  {
   "cell_type": "code",
   "execution_count": null,
   "id": "a3643a41-e9a6-4a8d-aad4-aba03426acb9",
   "metadata": {},
   "outputs": [],
   "source": [
    "import matplotlib.pyplot as plt\n",
    "import seaborn as sns\n",
    "\n",
    "# 查看数据分布\n",
    "plt.figure(figsize=(10, 6))\n",
    "sns.histplot(filtered_data['Annualized growth in mean consumption or income per capita-Total Population'], kde=True)\n",
    "plt.title('Distribution of Annualized Growth in Mean Consumption or Income per Capita', fontsize=16)\n",
    "plt.xlabel('Annualized Growth in Mean Consumption or Income per Capita', fontsize=12)\n",
    "plt.ylabel('Frequency', fontsize=12)\n",
    "plt.grid(True, linestyle='--', alpha=0.7)\n",
    "plt.show()\n"
   ]
  },
  {
   "cell_type": "code",
   "execution_count": null,
   "id": "4272b1ef-40e7-4fd0-bd04-b9d134674e91",
   "metadata": {},
   "outputs": [],
   "source": [
    "# import numpy as np\n",
    "\n",
    "# # 查看数据的分布情况后，选择自定义边界\n",
    "# # 这里假设选择0、2和4作为边界，可以根据实际情况调整\n",
    "# bins = [-np.inf, 0, 2, np.inf]\n",
    "# labels = ['Low', 'Medium', 'High']\n",
    "\n",
    "# # 使用自定义边界进行分组\n",
    "# filtered_data['growth_group'] = pd.cut(filtered_data['Annualized growth in mean consumption or income per capita-Total Population'], bins=bins, labels=labels)\n",
    "\n",
    "# # 绘制箱线图\n",
    "# plt.figure(figsize=(12, 8))\n",
    "# sns.boxplot(data=filtered_data, x='growth_group', y='EXT', palette='Set3')\n",
    "# plt.title('Box Plot: Extroversion across Economic Growth Groups', fontsize=16)\n",
    "# plt.xlabel('Economic Growth Group', fontsize=12)\n",
    "# plt.ylabel('Extroversion', fontsize=12)\n",
    "# plt.grid(True, linestyle='--', alpha=0.7)\n",
    "# plt.show()\n"
   ]
  },
  {
   "cell_type": "markdown",
   "id": "72d0b1d9-5ac1-4787-9fc9-d33aecb4504f",
   "metadata": {},
   "source": [
    "### 折线图\n"
   ]
  },
  {
   "cell_type": "code",
   "execution_count": null,
   "id": "370c84b0-e326-4586-a856-e49af1c684bb",
   "metadata": {
    "scrolled": true
   },
   "outputs": [],
   "source": [
    "# 折线图：不同年份的经济变化与某个人格特质的关系\n",
    "plt.figure(figsize=(10, 8))\n",
    "sns.lineplot(data=economic_personality_data, x='Period', y='EST', hue='Country')\n",
    "plt.title('Line Plot: Economic Changes vs. Emotional Stability Over Years', fontsize=16)\n",
    "plt.xlabel('Year', fontsize=12)\n",
    "plt.ylabel('Emotional Stability', fontsize=12)\n",
    "plt.legend(loc='center left', bbox_to_anchor=(1, 0.5), ncol=2)\n",
    "plt.savefig('./picture/economic_est_line.png', bbox_inches='tight')\n",
    "plt.show()"
   ]
  },
  {
   "cell_type": "markdown",
   "id": "bf727d71-0d04-47a6-8bf2-8cae82c7f24e",
   "metadata": {},
   "source": [
    "### 气泡图"
   ]
  },
  {
   "cell_type": "code",
   "execution_count": null,
   "id": "9d9d6075-66d1-4e70-824d-e42973e13f41",
   "metadata": {
    "scrolled": true
   },
   "outputs": [],
   "source": [
    "# 气泡图：经济因素与某个人格特质的关系\n",
    "plt.figure(figsize=(10, 8))\n",
    "sns.scatterplot(data=economic_personality_data, x='Annualized growth in mean consumption or income per capita-Total Population', y='AGR', size='Baseline-Total Population$ a day (PPP)', hue='Country', sizes=(20, 2000), legend=False, alpha=0.6)\n",
    "plt.title('Bubble Chart: Economic Growth vs. Agreeableness', fontsize=16)\n",
    "plt.xlabel('Annualized Growth in Mean Consumption or Income per Capita', fontsize=12)\n",
    "plt.ylabel('Agreeableness', fontsize=12)\n",
    "handles, labels = plt.gca().get_legend_handles_labels()\n",
    "plt.legend(handles=handles, labels=labels, loc='center left', bbox_to_anchor=(1, 0.5), ncol=2)\n",
    "plt.savefig('./picture/economic_agr_bubble.png', bbox_inches='tight')\n",
    "plt.show()"
   ]
  },
  {
   "cell_type": "code",
   "execution_count": null,
   "id": "a6ebaae2-7fe5-416f-b92d-15f4b6fd2238",
   "metadata": {
    "scrolled": true
   },
   "outputs": [],
   "source": [
    "# 气泡图：经济因素与外向性的关系\n",
    "plt.figure(figsize=(10, 8))\n",
    "sns.scatterplot(data=economic_personality_data, x='Annualized growth in mean consumption or income per capita-Total Population', y='EXT', size='Baseline-Total Population$ a day (PPP)', hue='Country', sizes=(20, 2000), legend=False)\n",
    "plt.title('Bubble Chart: Economic Growth vs. Extroversion', fontsize=16)\n",
    "plt.xlabel('Annualized Growth in Mean Consumption or Income per Capita', fontsize=12)\n",
    "plt.ylabel('Extroversion', fontsize=12)\n",
    "plt.savefig('./picture/bubbleplot2.png', bbox_inches='tight')\n",
    "plt.show()\n",
    "\n",
    "# 气泡图：经济因素与情绪稳定性的关系\n",
    "plt.figure(figsize=(10, 8))\n",
    "sns.scatterplot(data=economic_personality_data, x='Annualized growth in mean consumption or income per capita-Total Population', y='EST', size='Baseline-Total Population$ a day (PPP)', hue='Country', sizes=(20, 2000), legend=False)\n",
    "plt.title('Bubble Chart: Economic Growth vs. Emotional Stability', fontsize=16)\n",
    "plt.xlabel('Annualized Growth in Mean Consumption or Income per Capita', fontsize=12)\n",
    "plt.ylabel('Emotional Stability', fontsize=12)\n",
    "plt.savefig('./picture/bubbleplot3.png', bbox_inches='tight')\n",
    "plt.show()\n",
    "\n",
    "# 气泡图：经济因素与尽责性的关系\n",
    "plt.figure(figsize=(10, 8))\n",
    "sns.scatterplot(data=economic_personality_data, x='Annualized growth in mean consumption or income per capita-Total Population', y='CSN', size='Baseline-Total Population$ a day (PPP)', hue='Country', sizes=(20, 2000), legend=False)\n",
    "plt.title('Bubble Chart: Economic Growth vs. Conscientiousness', fontsize=16)\n",
    "plt.xlabel('Annualized Growth in Mean Consumption or Income per Capita', fontsize=12)\n",
    "plt.ylabel('Conscientiousness', fontsize=12)\n",
    "plt.savefig('./picture/bubbleplot4.png', bbox_inches='tight')\n",
    "plt.show()\n",
    "\n",
    "# 气泡图：经济因素与开放性的关系\n",
    "plt.figure(figsize=(10, 8))\n",
    "sns.scatterplot(data=economic_personality_data, x='Annualized growth in mean consumption or income per capita-Total Population', y='OPN', size='Baseline-Total Population$ a day (PPP)', hue='Country', sizes=(20, 2000), legend=False)\n",
    "plt.title('Bubble Chart: Economic Growth vs. Openness', fontsize=16)\n",
    "plt.xlabel('Annualized Growth in Mean Consumption or Income per Capita', fontsize=12)\n",
    "plt.ylabel('Openness', fontsize=12)\n",
    "plt.savefig('./picture/bubbleplot5.png', bbox_inches='tight')\n",
    "plt.show()\n",
    "\n",
    "print(\"All images have been saved locally.\")"
   ]
  },
  {
   "cell_type": "code",
   "execution_count": null,
   "id": "6d132e29-5c7c-4c27-a652-9625c874860f",
   "metadata": {},
   "outputs": [],
   "source": [
    "import pandas as pd\n",
    "import matplotlib.pyplot as plt\n",
    "import seaborn as sns\n",
    "from sklearn.preprocessing import StandardScaler\n",
    "\n",
    "economic_personality_data = pd.read_excel('economic_personality_data.xlsx')\n",
    "# 标准化经济增长率和人格特质\n",
    "scaler = StandardScaler()\n",
    "economic_personality_data[['Annualized growth in mean consumption or income per capita-Total Population', 'EXT', 'EST', 'CSN', 'OPN', 'AGR']] = scaler.fit_transform(\n",
    "    economic_personality_data[['Annualized growth in mean consumption or income per capita-Total Population', 'EXT', 'EST', 'CSN', 'OPN', 'AGR']]\n",
    ")\n",
    "\n",
    "# 气泡图函数\n",
    "def bubble_chart(x, y, title, xlabel, ylabel, filename):\n",
    "    plt.figure(figsize=(12, 10))\n",
    "    sns.scatterplot(data=economic_personality_data, \n",
    "                    x=x, \n",
    "                    y=y, \n",
    "                    size='Baseline-Total Population$ a day (PPP)', \n",
    "                    hue='Country', \n",
    "                    sizes=(20, 2000), \n",
    "                    alpha=0.6, \n",
    "                    palette='viridis')\n",
    "    sns.regplot(data=economic_personality_data, \n",
    "                x=x, \n",
    "                y=y, \n",
    "                scatter=False, \n",
    "                color='red', \n",
    "                line_kws={\"lw\":2})\n",
    "    plt.title(title, fontsize=16)\n",
    "    plt.xlabel(xlabel, fontsize=12)\n",
    "    plt.ylabel(ylabel, fontsize=12)\n",
    "    # plt.legend(loc='upper left', bbox_to_anchor=(1, 1), title='Country')\n",
    "    plt.legend(loc='upper left', bbox_to_anchor=(1, 1), title='Country', ncol=2)  # 设置图例为两列\n",
    "    plt.grid(True, linestyle='--', alpha=0.7)\n",
    "    plt.savefig(filename, bbox_inches='tight')\n",
    "    plt.show()\n",
    "\n",
    "# 绘制并保存气泡图\n",
    "bubble_chart('Annualized growth in mean consumption or income per capita-Total Population', 'EXT', \n",
    "             'Bubble Chart: Economic Growth vs. Extroversion', \n",
    "             'Annualized Growth in Mean Consumption or Income per Capita', 'Extroversion', './picture/bubbleplot2.png')\n",
    "\n",
    "bubble_chart('Annualized growth in mean consumption or income per capita-Total Population', 'EST', \n",
    "             'Bubble Chart: Economic Growth vs. Emotional Stability', \n",
    "             'Annualized Growth in Mean Consumption or Income per Capita', 'Emotional Stability', './picture/bubbleplot3.png')\n",
    "\n",
    "bubble_chart('Annualized growth in mean consumption or income per capita-Total Population', 'CSN', \n",
    "             'Bubble Chart: Economic Growth vs. Conscientiousness', \n",
    "             'Annualized Growth in Mean Consumption or Income per Capita', 'Conscientiousness', './picture/bubbleplot4.png')\n",
    "\n",
    "bubble_chart('Annualized growth in mean consumption or income per capita-Total Population', 'OPN', \n",
    "             'Bubble Chart: Economic Growth vs. Openness', \n",
    "             'Annualized Growth in Mean Consumption or Income per Capita', 'Openness', './picture/bubbleplot5.png')\n",
    "\n",
    "bubble_chart('Annualized growth in mean consumption or income per capita-Total Population', 'AGR', \n",
    "             'Bubble Chart: Economic Growth vs. Agreeableness', \n",
    "             'Annualized Growth in Mean Consumption or Income per Capita', 'Agreeableness', './picture/bubbleplot6.png')\n",
    "\n",
    "print(\"All images have been saved locally.\")\n"
   ]
  },
  {
   "cell_type": "markdown",
   "id": "e9c2c1c1-c745-4074-a6a9-2445da63d10b",
   "metadata": {},
   "source": [
    "# 2"
   ]
  },
  {
   "cell_type": "code",
   "execution_count": null,
   "id": "34929a40-9aa4-45eb-a678-a2bc2bd5b1b8",
   "metadata": {},
   "outputs": [],
   "source": [
    "import pandas as pd\n",
    "import numpy as np\n",
    "import matplotlib.pyplot as plt\n",
    "import seaborn as sns\n",
    "import pycountry\n",
    "from sklearn.decomposition import PCA\n",
    "from sklearn.preprocessing import StandardScaler\n"
   ]
  },
  {
   "cell_type": "code",
   "execution_count": null,
   "id": "a3c0d9a3-d1f2-4c2f-b7c7-d3534ce4a20d",
   "metadata": {},
   "outputs": [],
   "source": [
    "# 读取数据\n",
    "# personality_data = pd.read_csv('personality_data.csv')\n",
    "personality_data = pd.read_csv('new_personality_data.csv')\n",
    "\n",
    "gdsp_data = pd.read_excel('GDSP.xlsx')\n",
    "gdsp_median_income = pd.read_excel('GDSP-and-Median-Income-historical-AM23.xlsx', sheet_name='data_byspell')\n",
    "population_data = pd.read_excel('population.xlsx')\n"
   ]
  },
  {
   "cell_type": "markdown",
   "id": "d9f6d248-0bf0-429a-b94f-4b890c090bb8",
   "metadata": {},
   "source": [
    "## 数据预处理"
   ]
  },
  {
   "cell_type": "code",
   "execution_count": null,
   "id": "4a2b95f6-5c07-4a59-ac74-659fb0f9c455",
   "metadata": {},
   "outputs": [],
   "source": [
    "# 标准化国家名称\n",
    "ctr_to_country = {i.alpha_3: i.alpha_2 for i in pycountry.countries}\n",
    "\n",
    "def convert_country_code(row):\n",
    "    try:\n",
    "        return ctr_to_country[row]\n",
    "    except KeyError:\n",
    "        return row\n",
    "\n",
    "personality_data['country_code'] = personality_data['country'].apply(convert_country_code)\n",
    "gdsp_data['Country_Code'] = gdsp_data['Code'].apply(convert_country_code)\n",
    "gdsp_median_income['Country_Code'] = gdsp_median_income['code'].apply(convert_country_code)\n",
    "population_data['Country_Code'] = population_data['country_code'].apply(convert_country_code)\n"
   ]
  },
  {
   "cell_type": "code",
   "execution_count": null,
   "id": "d934d8d2-2f46-4e6d-a09a-84684de1d44b",
   "metadata": {},
   "outputs": [],
   "source": [
    "# 合并数据\n",
    "merged_data = personality_data.merge(gdsp_data, left_on='country_code', right_on='Country_Code', how='inner')\n",
    "merged_data = merged_data.merge(gdsp_median_income, on='Country_Code', how='inner')\n",
    "merged_data = merged_data.merge(population_data, on='Country_Code', how='inner')\n"
   ]
  },
  {
   "cell_type": "markdown",
   "id": "7ebd598e-c7fd-41d2-96c3-b0f9d1a18a46",
   "metadata": {},
   "source": [
    "## 降维处理"
   ]
  },
  {
   "cell_type": "code",
   "execution_count": null,
   "id": "ea410e01-abf6-4fa5-80af-304f6cdfa833",
   "metadata": {},
   "outputs": [],
   "source": [
    "# 提取需要降维的列\n",
    "features = ['EXT', 'EST', 'AGR', 'CSN', 'OPN']\n",
    "x = merged_data.loc[:, features].values\n",
    "x = StandardScaler().fit_transform(x)\n"
   ]
  },
  {
   "cell_type": "code",
   "execution_count": null,
   "id": "713207bd-8ca9-43f6-8114-d7f88a1727ba",
   "metadata": {},
   "outputs": [],
   "source": [
    "# PCA降维\n",
    "pca = PCA(n_components=2)\n",
    "principal_components = pca.fit_transform(x)\n",
    "principal_df = pd.DataFrame(data=principal_components, columns=['principal_component_1', 'principal_component_2'])\n",
    "final_df = pd.concat([principal_df, merged_data[['Country_Code']]], axis=1)\n"
   ]
  },
  {
   "cell_type": "markdown",
   "id": "00d4ca36-f594-45af-b307-03828b316994",
   "metadata": {},
   "source": [
    "## 可视化"
   ]
  },
  {
   "cell_type": "code",
   "execution_count": null,
   "id": "2a8dd169-0c27-480a-8482-df38642b2eae",
   "metadata": {},
   "outputs": [],
   "source": [
    "# plt.figure(figsize=(80, 70))\n",
    "# sns.heatmap(merged_data.corr(), annot=True, cmap='coolwarm')\n",
    "# plt.title('Correlation Heatmap')\n",
    "# plt.show()\n",
    "# plt.savefig(./Correlation Heatmap.png)"
   ]
  },
  {
   "cell_type": "code",
   "execution_count": null,
   "id": "a96ef2cf-4d63-4642-a8a2-df531174b911",
   "metadata": {
    "scrolled": true
   },
   "outputs": [],
   "source": [
    "#热力图展示了数据集中不同变量之间的相关性系数。\n",
    "#颜色表示相关性的强度和方向，通常从蓝色（负相关）到红色（正相关）。\n",
    "#通过查看热力图，可以快速识别哪些变量之间存在显著的相关性，这有助于理解人格特质与社会生态指标之间的关系。\n",
    "# Increase the figure size\n",
    "plt.figure(figsize=(80, 70))\n",
    "\n",
    "# Create the heatmap\n",
    "heatmap = sns.heatmap(merged_data.corr(), annot=True, cmap='coolwarm')\n",
    "\n",
    "# Set the title and adjust font size\n",
    "heatmap.set_title('Correlation Heatmap', fontsize=80)\n",
    "\n",
    "# Adjust tick labels font size and wrap long labels\n",
    "plt.xticks(fontsize=40)  # Adjust x-axis tick font size\n",
    "plt.yticks(fontsize=40)  # Adjust y-axis tick font size\n",
    "plt.tight_layout()  # Ensure tight layout for better visualization\n",
    "\n",
    "plt.savefig(\"./picture/Correlation_Heatmap1.png\")\n",
    "# Show the plot\n",
    "plt.show()\n"
   ]
  },
  {
   "cell_type": "code",
   "execution_count": null,
   "id": "958111a2-3aaf-449f-afb5-905990801ed0",
   "metadata": {},
   "outputs": [],
   "source": [
    "merged_data.head()"
   ]
  },
  {
   "cell_type": "markdown",
   "id": "eaaea706-bc82-4f94-8f8e-0e29cd6777a0",
   "metadata": {},
   "source": [
    "### 散点图"
   ]
  },
  {
   "cell_type": "markdown",
   "id": "cae6fa32-db0a-4cec-82b1-8c85fb0b6582",
   "metadata": {},
   "source": [
    "散点图展示了主成分分析 (PCA) 后的两个主要成分。这两个成分捕捉了最大程度的人格特质变化。每个点代表一个国家，通过颜色区分不同的国家。这个图表帮助我们理解不同国家的人格特质分布以及它们在主要成分空间中的位置。"
   ]
  },
  {
   "cell_type": "code",
   "execution_count": null,
   "id": "ad5f561f-f8b9-4f20-b239-08eaceaaea13",
   "metadata": {
    "scrolled": true
   },
   "outputs": [],
   "source": [
    "# plt.figure(figsize=(20, 16))\n",
    "# sns.scatterplot(data=final_df, x='principal_component_1', y='principal_component_2', hue='Country_Code')\n",
    "# plt.title('PCA of Personality Traits')\n",
    "# plt.show()\n"
   ]
  },
  {
   "cell_type": "code",
   "execution_count": null,
   "id": "5a7c8d2b-4518-4ada-92a6-bff5a7b75030",
   "metadata": {},
   "outputs": [],
   "source": [
    "plt.figure(figsize=(20, 16))\n",
    "sns.scatterplot(data=final_df, x='principal_component_1', y='principal_component_2', hue='Country_Code')\n",
    "plt.title('PCA of Personality Traits')\n",
    "plt.legend(loc='center left', bbox_to_anchor=(1, 0.5), ncol=2)\n",
    "plt.savefig('./picture/scatter_plot.png', bbox_inches='tight')\n",
    "plt.show()\n"
   ]
  },
  {
   "cell_type": "markdown",
   "id": "7eb197fd-142e-4e82-bfaa-2ee21344c309",
   "metadata": {},
   "source": [
    "### 气泡图\n",
    "气泡图展示了外向性 (EXT) 与人均收入 (meanb401) 之间的关系。气泡的大小表示每个国家的总人口。这个图表帮助我们理解人格特质与经济指标之间的关系，并可视化人口规模的影响。"
   ]
  },
  {
   "cell_type": "code",
   "execution_count": null,
   "id": "5bc603a2-d1df-4194-a20b-47bff9b297f8",
   "metadata": {},
   "outputs": [],
   "source": [
    "plt.figure(figsize=(40, 30))\n",
    "sns.scatterplot(data=merged_data, x='meanb401', y='EXT', size='population_total', hue='Country_Code', sizes=(20, 2000), alpha=0.5)\n",
    "plt.title('Bubble Chart: EXT vs Mean Income', fontsize=24)\n",
    "plt.xlabel('Mean Income per Capita (Bottom 40%)', fontsize=18)\n",
    "plt.ylabel('Extroversion (EXT)', fontsize=18)\n",
    "plt.legend(loc='center left', bbox_to_anchor=(1, 0.5), ncol=2)\n",
    "plt.savefig('./picture/bubble_chart.png', bbox_inches='tight')\n",
    "plt.show()\n"
   ]
  },
  {
   "cell_type": "code",
   "execution_count": null,
   "id": "6e398e8d-0f8e-4bad-9d1b-e118f835467f",
   "metadata": {
    "scrolled": true
   },
   "outputs": [],
   "source": [
    "#气泡图展示了外向性 (EXT) 与人均收入 (meanb401) 之间的关系。\n",
    "#气泡的大小表示每个国家的总人口。\n",
    "#这个图表帮助我们理解人格特质与经济指标之间的关系，并可视化人口规模的影响。\n",
    "# plt.figure(figsize=(20, 16))\n",
    "# sns.scatterplot(data=merged_data, x='meanb401', y='EXT', size='population_total', hue='Country_Code', sizes=(20, 2000), alpha=0.5)\n",
    "# plt.title('Bubble Chart: EXT vs Mean Income')\n",
    "# plt.show()\n"
   ]
  },
  {
   "cell_type": "markdown",
   "id": "f56c80cb-3b46-4067-9461-18efda328a47",
   "metadata": {},
   "source": [
    "### 雷达图\n",
    "雷达图展示了每个国家在五大人格特质（外向性EXT、神经质EST、宜人性AGR、尽责性CSN、开放性OPN）上的分数。每个轴代表一个人格特质，图中的线条和填充区域表示特定国家在这些特质上的表现。通过雷达图，可以直观地比较不同国家的人格特质分布模式。"
   ]
  },
  {
   "cell_type": "code",
   "execution_count": null,
   "id": "b396ba7b-09ff-400f-b245-9df23e8336ae",
   "metadata": {},
   "outputs": [],
   "source": [
    "import matplotlib.pyplot as plt\n",
    "from math import pi\n",
    "\n",
    "# 准备数据\n",
    "categories = ['EXT', 'EST', 'AGR', 'CSN', 'OPN']\n",
    "N = len(categories)\n",
    "\n",
    "# 将角度划分为等份\n",
    "angles = [n / float(N) * 2 * pi for n in range(N)]\n",
    "angles += angles[:1]\n",
    "\n",
    "# 准备雷达图数据\n",
    "plt.figure(figsize=(20, 18))\n",
    "ax = plt.subplot(111, polar=True)\n",
    "for index, row in merged_data.iterrows():\n",
    "    values = row[categories].values.flatten().tolist()\n",
    "    values += values[:1]\n",
    "    ax.plot(angles, values, linewidth=1, linestyle='solid', label=row['Country_Code'])\n",
    "    ax.fill(angles, values, alpha=0.1)\n",
    "    \n",
    "plt.title('Radar Chart of Personality Traits')\n",
    "plt.legend(loc='center left', bbox_to_anchor=(1, 0.5), ncol=2)\n",
    "plt.savefig('./picture/radar_chart.png', bbox_inches='tight')\n",
    "plt.show()\n"
   ]
  },
  {
   "cell_type": "code",
   "execution_count": null,
   "id": "659bd986-b150-422f-83a1-b133a674c414",
   "metadata": {},
   "outputs": [],
   "source": []
  },
  {
   "cell_type": "code",
   "execution_count": null,
   "id": "660acc06-0732-45b6-a086-8b34cd568387",
   "metadata": {},
   "outputs": [],
   "source": []
  }
 ],
 "metadata": {
  "kernelspec": {
   "display_name": "Python 3 (ipykernel)",
   "language": "python",
   "name": "python3"
  },
  "language_info": {
   "codemirror_mode": {
    "name": "ipython",
    "version": 3
   },
   "file_extension": ".py",
   "mimetype": "text/x-python",
   "name": "python",
   "nbconvert_exporter": "python",
   "pygments_lexer": "ipython3",
   "version": "3.9.4"
  }
 },
 "nbformat": 4,
 "nbformat_minor": 5
}

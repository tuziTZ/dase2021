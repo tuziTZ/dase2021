{
 "cells": [
  {
   "cell_type": "markdown",
   "id": "1c98fc51",
   "metadata": {},
   "source": [
    "# 异常检测Anomaly Detection\n"
   ]
  },
  {
   "cell_type": "markdown",
   "id": "0192d945",
   "metadata": {},
   "source": [
    "## 实验介绍\n",
    "### 数据\n",
    "- UNSW-NB15数据集：\n",
    "- 攻击类型（7类）：Fuzzers, Analysis, Backdoors, DoS, Exploits, Generic, Reconnaissance\n",
    "- 数据维度：196\n",
    "- 数据划分：训练集train_data.csv，测试集test_data.csv\n",
    "### 任务\n",
    "- 在UNSW-NB15数据集上进行异常检测，使用经典的无监督异常检测模型iForest、LOF、DeepSVDD。\n",
    "\n",
    "### 要求\n",
    "- 使用AUROC和AUPRC指标评估；\n",
    "- 可以调包；\n",
    "- 可以直接使用DeepOD仓库；\n",
    "     https://github.com/xuhongzuo/DeepOD\n",
    "- 在实验报告中列出表格对比这几类异常检测方法的性能和时间。"
   ]
  },
  {
   "cell_type": "markdown",
   "id": "52c0e7ab",
   "metadata": {},
   "source": [
    "## 实验过程"
   ]
  },
  {
   "cell_type": "code",
   "execution_count": 8,
   "id": "b2033c1c",
   "metadata": {},
   "outputs": [],
   "source": [
    "import pandas as pd\n",
    "from sklearn.model_selection import train_test_split\n",
    "from sklearn.metrics import roc_auc_score, average_precision_score\n",
    "from pyod.models.iforest import IForest\n",
    "from pyod.models.lof import LOF\n",
    "from deepod.models.tabular import DeepSVDD\n",
    "from deepod.models import DeepSAD\n",
    "\n",
    "# 读取训练集和测试集数据\n",
    "train_data = pd.read_csv('NB15/train_data.csv')\n",
    "test_data = pd.read_csv('NB15/test_data.csv')"
   ]
  },
  {
   "cell_type": "code",
   "execution_count": 12,
   "id": "b9b26b3d",
   "metadata": {},
   "outputs": [],
   "source": [
    "# # 将字符串标签转换为数字\n",
    "# label_mapping = {\n",
    "#     'Normal': 0,\n",
    "#     'Fuzzers': 1,\n",
    "#     'Analysis': 2,\n",
    "#     'Backdoors': 3,\n",
    "#     'DoS': 4,\n",
    "#     'Exploits': 5,\n",
    "#     'Generic': 6,\n",
    "#     'Reconnaissance': 7\n",
    "# }\n",
    "\n",
    "# # 将训练集和测试集的标签列进行替换\n",
    "# train_data['attack_cat'] = train_data['attack_cat'].replace(label_mapping)\n",
    "# test_data['attack_cat'] = test_data['attack_cat'].replace(label_mapping)\n",
    "# 划分特征和标签\n",
    "X_train = train_data.drop(columns=['label'])\n",
    "X_train = X_train.drop(columns=['attack_cat'])\n",
    "y_train = train_data['label']\n",
    "X_test = test_data.drop(columns=['label'])\n",
    "X_test = X_test.drop(columns=['attack_cat'])\n",
    "y_test = test_data['label']\n",
    "\n",
    "# 定义模型\n",
    "\n",
    "iForest=IForest()\n",
    "lof=LOF()\n",
    "Deepsvdd=DeepSVDD()\n"
   ]
  },
  {
   "cell_type": "code",
   "execution_count": 33,
   "id": "96c22e82",
   "metadata": {},
   "outputs": [
    {
     "name": "stdout",
     "output_type": "stream",
     "text": [
      "异常值比例： 0.04999278950151421\n"
     ]
    }
   ],
   "source": [
    "# 计算异常值比例\n",
    "outlier_ratio = y_train.value_counts(normalize=True)[1]\n",
    "\n",
    "print(\"异常值比例：\", outlier_ratio)"
   ]
  },
  {
   "cell_type": "code",
   "execution_count": 13,
   "id": "f5c9ee9c",
   "metadata": {},
   "outputs": [
    {
     "name": "stderr",
     "output_type": "stream",
     "text": [
      "c:\\Users\\tuzi\\.conda\\envs\\l4\\lib\\site-packages\\sklearn\\base.py:444: UserWarning: X has feature names, but IsolationForest was fitted without feature names\n",
      "  f\"X has feature names, but {self.__class__.__name__} was fitted without\"\n"
     ]
    }
   ],
   "source": [
    "# 训练并评估模型\n",
    "results = {}\n",
    "# iForest\n",
    "iForest.fit(X_train)\n",
    "y_pred = iForest.predict(X_test)\n",
    "# print(y_pred,y_test)\n",
    "# print(len(y_pred),len(y_test))\n",
    "auc_roc = roc_auc_score(y_test, y_pred)\n",
    "auc_pr = average_precision_score(y_test, y_pred)\n",
    "results['iForest'] = {'AUROC': auc_roc, 'AUPRC': auc_pr}\n",
    "\n"
   ]
  },
  {
   "cell_type": "code",
   "execution_count": 14,
   "id": "547afac6",
   "metadata": {},
   "outputs": [],
   "source": [
    "# lof\n",
    "lof.fit(X_train)\n",
    "y_pred = lof.predict(X_test)\n",
    "# print(y_pred,y_test)\n",
    "# print(len(y_pred),len(y_test))\n",
    "auc_roc = roc_auc_score(y_test, y_pred)\n",
    "auc_pr = average_precision_score(y_test, y_pred)\n",
    "results['lof'] = {'AUROC': auc_roc, 'AUPRC': auc_pr}"
   ]
  },
  {
   "cell_type": "code",
   "execution_count": 29,
   "id": "c83ecc91",
   "metadata": {},
   "outputs": [],
   "source": [
    "X_train = X_train.astype(int)\n",
    "X_train_tensor = torch.tensor(X_train.values)\n",
    "X_test = X_test.astype(int)\n",
    "X_test_tensor = torch.tensor(X_test.values)"
   ]
  },
  {
   "cell_type": "code",
   "execution_count": 31,
   "id": "6eb2578b",
   "metadata": {},
   "outputs": [
    {
     "name": "stdout",
     "output_type": "stream",
     "text": [
      "Start Training...\n",
      "ensemble size: 1\n",
      "MLPnet(\n",
      "  (network): Sequential(\n",
      "    (0): LinearBlock(\n",
      "      (linear): Linear(in_features=197, out_features=100, bias=False)\n",
      "      (act_layer): ReLU()\n",
      "    )\n",
      "    (1): LinearBlock(\n",
      "      (linear): Linear(in_features=100, out_features=50, bias=False)\n",
      "      (act_layer): ReLU()\n",
      "    )\n",
      "    (2): LinearBlock(\n",
      "      (linear): Linear(in_features=50, out_features=128, bias=False)\n",
      "      (act_layer): Identity()\n",
      "    )\n",
      "  )\n",
      ")\n",
      "epoch  1, training loss: 1544587348597306.750000, time: 1.7s\n",
      "epoch 10, training loss: 579896224539832.625000, time: 1.7s\n",
      "epoch 20, training loss: 509487074070460.875000, time: 1.8s\n",
      "epoch 30, training loss: 464311823544387.125000, time: 1.9s\n",
      "epoch 40, training loss: 423255203162078.437500, time: 1.9s\n",
      "epoch 50, training loss: 391129490393188.750000, time: 1.9s\n",
      "epoch 60, training loss: 357890607623721.937500, time: 1.9s\n",
      "epoch 70, training loss: 328246405095021.125000, time: 1.9s\n",
      "epoch 80, training loss: 309279280715272.375000, time: 1.9s\n",
      "epoch 90, training loss: 301920244212114.875000, time: 1.9s\n",
      "epoch100, training loss: 297028342848864.500000, time: 1.9s\n",
      "Start Inference on the training data...\n"
     ]
    },
    {
     "name": "stderr",
     "output_type": "stream",
     "text": [
      "testing: 100%|██████████| 976/976 [00:00<00:00, 1633.88it/s]\n",
      "testing: 100%|██████████| 354/354 [00:00<00:00, 1682.08it/s]\n"
     ]
    }
   ],
   "source": [
    "# DeepSVDD\n",
    "Deepsvdd.fit(X_train_tensor, y=None)\n",
    "y_pred = Deepsvdd.decision_function(X_test_tensor)\n",
    "\n",
    "# print(y_pred,y_test)\n",
    "# print(len(y_pred),len(y_test))\n",
    "auc_roc = roc_auc_score(y_test, y_pred)\n",
    "auc_pr = average_precision_score(y_test, y_pred)\n",
    "results['DeepSVDD'] = {'AUROC': auc_roc, 'AUPRC': auc_pr}"
   ]
  },
  {
   "cell_type": "code",
   "execution_count": 32,
   "id": "45a28fa4",
   "metadata": {},
   "outputs": [
    {
     "name": "stdout",
     "output_type": "stream",
     "text": [
      "        iForest       lof  DeepSVDD\n",
      "AUROC  0.562695  0.508903  0.774321\n",
      "AUPRC  0.211161  0.179957  0.392863\n"
     ]
    }
   ],
   "source": [
    "# 输出结果\n",
    "results_df = pd.DataFrame(results)\n",
    "print(results_df)"
   ]
  }
 ],
 "metadata": {
  "kernelspec": {
   "display_name": "l4",
   "language": "python",
   "name": "python3"
  },
  "language_info": {
   "codemirror_mode": {
    "name": "ipython",
    "version": 3
   },
   "file_extension": ".py",
   "mimetype": "text/x-python",
   "name": "python",
   "nbconvert_exporter": "python",
   "pygments_lexer": "ipython3",
   "version": "3.7.16"
  },
  "toc": {
   "base_numbering": 1,
   "nav_menu": {},
   "number_sections": true,
   "sideBar": true,
   "skip_h1_title": false,
   "title_cell": "Table of Contents",
   "title_sidebar": "Contents",
   "toc_cell": false,
   "toc_position": {},
   "toc_section_display": true,
   "toc_window_display": false
  }
 },
 "nbformat": 4,
 "nbformat_minor": 5
}
